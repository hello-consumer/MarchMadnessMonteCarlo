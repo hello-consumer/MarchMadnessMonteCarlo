{
 "cells": [
  {
   "cell_type": "code",
   "execution_count": 80,
   "metadata": {},
   "outputs": [],
   "source": [
    "import urllib.request\n",
    "from bs4 import BeautifulSoup\n",
    "import pandas as p\n",
    "\n",
    "pomeroy_page = 'https://kenpom.com/'\n",
    "\n",
    "request = urllib.request.Request(pomeroy_page)\n",
    "response = urllib.request.urlopen(request)\n",
    "page = response.read().decode('utf-8')\n",
    "soup = BeautifulSoup(page, 'html.parser')\n",
    "table = soup.find('table')\n",
    "\n",
    "table_head = table.find('thead')\n",
    "\n",
    "row2 = table_head.find_all('tr')[1]\n",
    "headers = row2.find_all('th')\n",
    "\n",
    "pom_data = {}\n",
    "\n",
    "\n",
    "for head in headers:\n",
    "    text = head.text.strip()\n",
    "    pom_data[text] = []\n",
    "\n",
    "\n",
    "table_body = table.find('tbody')\n",
    "\n",
    "rows = table_body.find_all('tr')\n",
    "    \n",
    "length = len(pom_data.keys())\n",
    "\n",
    "for row in rows:\n",
    "    cols = [ele.text.strip() for ele in row.find_all('td')]\n",
    "    if len(cols) > 0:\n",
    "        for i in range(length):\n",
    "        \n",
    "            pom_data[list(pom_data.keys())[i]].append(cols[i])\n",
    "\n",
    "df = p.DataFrame(pom_data)\n",
    "\n",
    "df.set_index('Rank')\n",
    "\n",
    "df.to_csv('pomeroy.csv')"
   ]
  },
  {
   "cell_type": "code",
   "execution_count": null,
   "metadata": {},
   "outputs": [],
   "source": []
  }
 ],
 "metadata": {
  "kernelspec": {
   "display_name": "Python 3",
   "language": "python",
   "name": "python3"
  },
  "language_info": {
   "codemirror_mode": {
    "name": "ipython",
    "version": 3
   },
   "file_extension": ".py",
   "mimetype": "text/x-python",
   "name": "python",
   "nbconvert_exporter": "python",
   "pygments_lexer": "ipython3",
   "version": "3.6.4"
  }
 },
 "nbformat": 4,
 "nbformat_minor": 2
}
